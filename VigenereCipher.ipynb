{
 "cells": [
  {
   "cell_type": "code",
   "execution_count": 204,
   "metadata": {},
   "outputs": [
    {
     "name": "stdout",
     "output_type": "stream",
     "text": [
      "mssxxjowq tydlq slo bowrsrydmmx\n",
      "countless paths one destination\n"
     ]
    }
   ],
   "source": [
    "def vigenereCipher(textIn, key, encode):\n",
    "    \n",
    "    # Extend key to match input text length\n",
    "    a, b = divmod(len(textIn), len(key))\n",
    "    key_ext = key * a + key[:b]\n",
    "    \n",
    "    # Store the processed text\n",
    "    textOut = \"\"\n",
    "    \n",
    "    for i in range(len(textIn)):\n",
    "        # Iterate over every character except for spaces\n",
    "        if ord(textIn[i]) != 32:\n",
    "            if encode == True:\n",
    "               # If encoding, add every letter to corresponding letter in extended key\n",
    "               # Then subtract 194 to put values in range 0-50\n",
    "               # Mod values by 26 and add 97 to put values back in range 97-122\n",
    "               textOut += chr((((ord(textIn[i].lower()) + ord(key_ext[i].lower())) - 194) % 26) + 97)\n",
    "            else:\n",
    "               # If decoding, subtract every letter by corresponding letter in extended key\n",
    "               # Then add 26 to put values in range 0-50 \n",
    "               # Mod values by 26 and add 97 to put values back in range 97-122\n",
    "               textOut += chr((((ord(textIn[i].lower()) - ord(key_ext[i].lower())) + 26) % 26) + 97)\n",
    "        else:\n",
    "            textOut += \" \"\n",
    "    \n",
    "    # Cipher/Plain text is returned\n",
    "    return textOut\n",
    "\n",
    "cipher_key = \"key\"\n",
    "\n",
    "hidden = vigenereCipher(\"Countless paths one destination\", cipher_key, True)\n",
    "print(hidden)\n",
    "\n",
    "visible = vigenereCipher(hidden, cipher_key, False)\n",
    "print(visible)"
   ]
  }
 ],
 "metadata": {
  "kernelspec": {
   "display_name": "Python 3",
   "language": "python",
   "name": "python3"
  },
  "language_info": {
   "codemirror_mode": {
    "name": "ipython",
    "version": 3
   },
   "file_extension": ".py",
   "mimetype": "text/x-python",
   "name": "python",
   "nbconvert_exporter": "python",
   "pygments_lexer": "ipython3",
   "version": "3.8.3"
  }
 },
 "nbformat": 4,
 "nbformat_minor": 4
}
